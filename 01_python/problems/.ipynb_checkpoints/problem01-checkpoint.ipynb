{
 "cells": [
  {
   "cell_type": "markdown",
   "metadata": {},
   "source": [
    "### 자음 모음 count!!\n",
    "\n",
    "> 반복문과 조건문만 활용하여 사용자가 입력한 영어 단어의 자음과 모음을 세는 로직을 작성하세요.\n",
    "\n",
    "---\n",
    "\n",
    "```\n",
    "예시 입력)\n",
    "student\n",
    "\n",
    "예시 출력)\n",
    "vowels = 2\n",
    "consonants = 5\n",
    "```"
   ]
  },
  {
   "cell_type": "code",
   "execution_count": null,
   "metadata": {},
   "outputs": [],
   "source": [
    "Word = input()\n",
    "cnt = []\n",
    "cnt2 = []\n",
    "for i in Word:\n",
    "    if i == 'a' or i == 'e' or i == 'i' or i == 'o' or i == 'u':\n",
    "        cnt.append(i)\n",
    "    else:\n",
    "        cnt2.append(i)\n",
    "\n",
    "print('vowels = {}, consonants = {}'.format(len(cnt), len(cnt2)))"
   ]
  },
  {
   "cell_type": "markdown",
   "metadata": {},
   "source": [
    "# 상승장? 하락장?\n",
    "\n",
    "> 최고가와 최저가의 차이를 변동폭으로 정의할 때 (시가 + 변동폭)이 최고가 보다 높을 경우 \"상승장\", 그렇지 않은 경우 \"하락장\" 문자열을 출력하라.\n",
    "\n",
    "|Key Name|Description|\n",
    "|------|---|\n",
    "|opeing_price|최근 24시간 내 시작 거래금액|\n",
    "|closing_price|최근 24시간 내 마지막 거래금액|\n",
    "|min_price|최근 24시간 내 최저 거래금액|\n",
    "|max_price|최근 24시간 내 최고 거래금액|"
   ]
  },
  {
   "cell_type": "code",
   "execution_count": 1,
   "metadata": {},
   "outputs": [
    {
     "name": "stdout",
     "output_type": "stream",
     "text": [
      "{'opening_price': '11075000', 'closing_price': '11632000', 'min_price': '10870000', 'max_price': '12000000', 'average_price': '11490178.0619', 'units_traded': '16727.84088892', 'volume_1day': '16727.84088892', 'volume_7day': '96172.4440557', 'buy_price': '11632000', 'sell_price': '11642000', '24H_fluctate': '557000', '24H_fluctate_rate': '5.02', 'date': '1563418224874'}\n"
     ]
    }
   ],
   "source": [
    "import requests\n",
    "\n",
    "url = \"https://api.bithumb.com/public/ticker/btc\"\n",
    "data = requests.get(url).json()['data']\n",
    "print(data)\n",
    "\n",
    "maximum = int(data['max_price'])\n",
    "minimum = int(data['min_price'])\n",
    "\n",
    "coin_range  = maximum - minimum\n",
    "start_price = int(data[opening_price])\n",
    "\n",
    "if start_price +coin_range > maximum:\n",
    "    print('상승장')\n",
    "else:\n",
    "    print('하락장')\n"
   ]
  },
  {
   "cell_type": "markdown",
   "metadata": {},
   "source": [
    "# 모음 제거하기\n",
    "\n",
    "> 다음 문장의 모음을 제거하여 출력하세요.\n",
    "\n",
    "```\n",
    "예시 입력)\n",
    "\"Life is too short, you need python\"\n",
    "예시 출력)\n",
    "Lf s t shrt, y nd pythn\n",
    "\n",
    "```"
   ]
  },
  {
   "cell_type": "code",
   "execution_count": null,
   "metadata": {},
   "outputs": [],
   "source": [
    "#my_str = \"Life is too short, you need python\"\n",
    "\n",
    "Word = list(input())\n",
    "print(Word)\n",
    "for i in range(len(Word)):\n",
    "     if Word[i] == 'a' or Word[i] == 'e' or Word[i] == 'i' or Word[i] == 'o' or Word[i] == 'u':\n",
    "         Word[i] = ''\n",
    "\n",
    "\n",
    "Word = ''.join(Word)\n",
    "print(Word)"
   ]
  },
  {
   "cell_type": "markdown",
   "metadata": {},
   "source": [
    "# 개인정보보호\n",
    "> 사용자의 핸드폰번호를 입력 받으려고한다. 개인정보 보호를 위하여 뒷자리 4자리를 제외하고는 마스킹 처리를 하려고한다.\n",
    ">\n",
    "> 핸드폰번호는 010으로 시작해야하고 11자리여야한다. 핸드폰번호를 입력하지 않았다면 \"핸드폰번호를 입력하세요\"를 출력한다\n",
    "\n",
    "```\n",
    "예시 입력)\n",
    "01012341234\n",
    "예시 출력)\n",
    "*******1234\n",
    "```"
   ]
  },
  {
   "cell_type": "code",
   "execution_count": 2,
   "metadata": {},
   "outputs": [
    {
     "name": "stdout",
     "output_type": "stream",
     "text": [
      "01051937185\n",
      "********7185\n"
     ]
    }
   ],
   "source": [
    "phone = input()\n",
    "if phone[0:3] != '010':\n",
    "    print(\"핸드폰번호를 입력하세요\")\n",
    "\n",
    "elif len(phone) != 11:\n",
    "    print(\"핸드폰번호를 입력하세요\")\n",
    "\n",
    "print('********{}'.format(phone[7:]))"
   ]
  },
  {
   "cell_type": "markdown",
   "metadata": {},
   "source": [
    "# 정중앙\n",
    "> 사용자가 입력한 문자열중 가운데 글자를 출력하라. 문자열이 짝수라면 가운데 두글자를 출력하라\n",
    "\n",
    "```\n",
    "예시 입력)\n",
    "apple \n",
    "예시 출력)\n",
    "p\n",
    "\n",
    "예시 입력)\n",
    "levele\n",
    "예시 출력)\n",
    "ve\n",
    "```"
   ]
  },
  {
   "cell_type": "code",
   "execution_count": null,
   "metadata": {},
   "outputs": [],
   "source": [
    "text = input()\n",
    "\n",
    "if len(text) %2 == 0 :\n",
    "    idx = len(text)/2\n",
    "    idx = int(idx)\n",
    "    print('{}{}'.format(text[idx-1],text[idx]))\n",
    "else:\n",
    "    idx = (len(text)-1) / 2\n",
    "    idx = int(idx)\n",
    "    print(text[idx])"
   ]
  }
 ],
 "metadata": {
  "kernelspec": {
   "display_name": "Python 3",
   "language": "python",
   "name": "python3"
  },
  "language_info": {
   "codemirror_mode": {
    "name": "ipython",
    "version": 3
   },
   "file_extension": ".py",
   "mimetype": "text/x-python",
   "name": "python",
   "nbconvert_exporter": "python",
   "pygments_lexer": "ipython3",
   "version": "3.7.4"
  }
 },
 "nbformat": 4,
 "nbformat_minor": 2
}
